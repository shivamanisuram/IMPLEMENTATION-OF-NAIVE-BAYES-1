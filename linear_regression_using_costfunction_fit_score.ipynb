{
  "nbformat": 4,
  "nbformat_minor": 0,
  "metadata": {
    "colab": {
      "provenance": [],
      "authorship_tag": "ABX9TyNfnp2XV0dNQZT2J0tsCyJJ",
      "include_colab_link": true
    },
    "kernelspec": {
      "name": "python3",
      "display_name": "Python 3"
    },
    "language_info": {
      "name": "python"
    }
  },
  "cells": [
    {
      "cell_type": "markdown",
      "metadata": {
        "id": "view-in-github",
        "colab_type": "text"
      },
      "source": [
        "<a href=\"https://colab.research.google.com/github/shivamanisuram/machine-learning-algortithms/blob/main/linear_regression_using_costfunction_fit_score.ipynb\" target=\"_parent\"><img src=\"https://colab.research.google.com/assets/colab-badge.svg\" alt=\"Open In Colab\"/></a>"
      ]
    },
    {
      "cell_type": "code",
      "execution_count": null,
      "metadata": {
        "id": "Ly3XeHNsLgQQ"
      },
      "outputs": [],
      "source": [
        "import numpy as np\n",
        "from sklearn import model_selection\n",
        "import pandas as pd"
      ]
    },
    {
      "cell_type": "code",
      "source": [
        "salary_data=pd.read_csv(\"/content/salary_data.csv\")"
      ],
      "metadata": {
        "id": "S7gw_PqELoEi"
      },
      "execution_count": null,
      "outputs": []
    },
    {
      "cell_type": "code",
      "source": [
        "X=salary_data.iloc[:,0].values\n",
        "Y=salary_data.iloc[:,1].values"
      ],
      "metadata": {
        "id": "YzHbB8m8Lzs7"
      },
      "execution_count": null,
      "outputs": []
    },
    {
      "cell_type": "code",
      "source": [
        "X.shape"
      ],
      "metadata": {
        "colab": {
          "base_uri": "https://localhost:8080/"
        },
        "id": "3x6s0VXPL6Xj",
        "outputId": "59430227-fd93-4236-efab-b5756733684d"
      },
      "execution_count": null,
      "outputs": [
        {
          "output_type": "execute_result",
          "data": {
            "text/plain": [
              "(30,)"
            ]
          },
          "metadata": {},
          "execution_count": 8
        }
      ]
    },
    {
      "cell_type": "code",
      "source": [
        "X_train, X_test, Y_train, Y_test = model_selection.train_test_split(X, Y, test_size = 0.3)\n",
        "X_train.shape"
      ],
      "metadata": {
        "colab": {
          "base_uri": "https://localhost:8080/"
        },
        "id": "xuxLGK75L7x2",
        "outputId": "5909c85e-a1f8-4576-d391-fbc17cc1555e"
      },
      "execution_count": null,
      "outputs": [
        {
          "output_type": "execute_result",
          "data": {
            "text/plain": [
              "(21,)"
            ]
          },
          "metadata": {},
          "execution_count": 9
        }
      ]
    },
    {
      "cell_type": "code",
      "source": [
        "# This function is used to find the best fit line using the training data\n",
        "def fit(x_train, y_train):\n",
        "    num = (x_train * y_train).mean() - x_train.mean() * y_train.mean()\n",
        "    den = (x_train ** 2).mean() - x_train.mean() ** 2\n",
        "    m = num / den\n",
        "    c = y_train.mean() - m * x_train.mean()\n",
        "    return m, c"
      ],
      "metadata": {
        "id": "oWAIUBhQL_rY"
      },
      "execution_count": null,
      "outputs": []
    },
    {
      "cell_type": "code",
      "source": [
        "# This function predicts the value of 'y' corresponding to each 'x'\n",
        "def predict(x, m, c):\n",
        "    return m * x + c"
      ],
      "metadata": {
        "id": "KJakn-TsMI92"
      },
      "execution_count": null,
      "outputs": []
    },
    {
      "cell_type": "code",
      "source": [
        "# This function returns the score using the Y(actual) and Y(predited), coefficient of determination.\n",
        "def score(y_truth, y_pred):\n",
        "    u = ((y_truth - y_pred)**2).sum()\n",
        "    v = ((y_truth - y_truth.mean())**2).sum()\n",
        "    return 1 - u/v\n",
        "    v = ((y_truth - y_truth.mean())**2).sum()\n",
        "    return 1 - u/v"
      ],
      "metadata": {
        "id": "kI0YhhoTMKvJ"
      },
      "execution_count": null,
      "outputs": []
    },
    {
      "cell_type": "code",
      "source": [
        "def cost (x, y, m , c):\n",
        "    return ((y - m * x - c)**2).mean()"
      ],
      "metadata": {
        "id": "YQSV3zWfMQm5"
      },
      "execution_count": null,
      "outputs": []
    },
    {
      "cell_type": "code",
      "source": [
        "m, c = fit(X_train, Y_train)\n",
        "# Test data\n",
        "y_test_pred = predict(X_test, m, c)\n",
        "print(\"Test Score: \",score(Y_test, y_test_pred))\n",
        "\n",
        "# Train data\n",
        "y_train_pred = predict(X_train, m, c)\n",
        "print(\"Train Score:\", score(Y_train, y_train_pred))\n",
        "print(\"M:\", m)\n",
        "print(\"C:\", c)\n",
        "print(\"Cost on training data:\", cost(X_train,Y_train, m, c ))\n"
      ],
      "metadata": {
        "colab": {
          "base_uri": "https://localhost:8080/"
        },
        "id": "VmoL5BmIMRyb",
        "outputId": "35e56a35-4ea1-43bb-f314-3da754fedea7"
      },
      "execution_count": null,
      "outputs": [
        {
          "output_type": "stream",
          "name": "stdout",
          "text": [
            "Test Score:  0.9144191659701024\n",
            "Train Score: 0.966918633424607\n",
            "M: 9427.671809584086\n",
            "C: 26334.186934845427\n",
            "Cost on training data: 26582999.817067854\n"
          ]
        }
      ]
    },
    {
      "source": [
        "import matplotlib.pyplot as plt # Importing the matplotlib library and aliasing it as plt\n",
        "\n",
        "plt.scatter(X_train, Y_train)\n",
        "plt.plot(X_train, m * X_train + c, color='red')\n",
        "plt.show()"
      ],
      "cell_type": "code",
      "metadata": {
        "id": "MGO4jckeM4Gg",
        "outputId": "16fa5681-c688-4bf0-eb0f-040c42a204f9",
        "colab": {
          "base_uri": "https://localhost:8080/",
          "height": 430
        }
      },
      "execution_count": null,
      "outputs": [
        {
          "output_type": "display_data",
          "data": {
            "text/plain": [
              "<Figure size 640x480 with 1 Axes>"
            ],
            "image/png": "[encoded data removed]"
          },
          "metadata": {}
        }
      ]
    },
    {
      "cell_type": "code",
      "source": [],
      "metadata": {
        "id": "RPa08YLKMzh4"
      },
      "execution_count": null,
      "outputs": []
    }
  ]
}