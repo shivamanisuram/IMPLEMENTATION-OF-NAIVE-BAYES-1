{
  "nbformat": 4,
  "nbformat_minor": 0,
  "metadata": {
    "colab": {
      "provenance": [],
      "authorship_tag": "ABX9TyPogSsMowM0TMKczplO7uwu",
      "include_colab_link": true
    },
    "kernelspec": {
      "name": "python3",
      "display_name": "Python 3"
    },
    "language_info": {
      "name": "python"
    }
  },
  "cells": [
    {
      "cell_type": "markdown",
      "metadata": {
        "id": "view-in-github",
        "colab_type": "text"
      },
      "source": [
        "<a href=\"https://colab.research.google.com/github/shivamanisuram/machine-learning-algortithms/blob/main/PCA_ANALYSIS_OF_BREAST_CANCER_DATASET.ipynb\" target=\"_parent\"><img src=\"https://colab.research.google.com/assets/colab-badge.svg\" alt=\"Open In Colab\"/></a>"
      ]
    },
    {
      "cell_type": "code",
      "execution_count": 20,
      "metadata": {
        "id": "4fy685iCsS_C"
      },
      "outputs": [],
      "source": [
        "from sklearn import decomposition, ensemble, datasets\n",
        "import numpy as np\n",
        "import time\n",
        "from sklearn import linear_model\n",
        "from sklearn.model_selection import train_test_split\n",
        "from sklearn.preprocessing import StandardScaler\n",
        "from sklearn.model_selection import train_test_split\n",
        "from sklearn.preprocessing import StandardScaler"
      ]
    },
    {
      "cell_type": "code",
      "source": [
        "breast_cancer=datasets.load_breast_cancer()"
      ],
      "metadata": {
        "id": "iZV9FA6sstpS"
      },
      "execution_count": 21,
      "outputs": []
    },
    {
      "cell_type": "code",
      "source": [
        "x=breast_cancer.data\n",
        "x.shape"
      ],
      "metadata": {
        "colab": {
          "base_uri": "https://localhost:8080/"
        },
        "id": "khqkzdwisw3S",
        "outputId": "bc43c21d-45e4-470e-cba8-3d4b6b3ed9a9"
      },
      "execution_count": 22,
      "outputs": [
        {
          "output_type": "execute_result",
          "data": {
            "text/plain": [
              "(569, 30)"
            ]
          },
          "metadata": {},
          "execution_count": 22
        }
      ]
    },
    {
      "cell_type": "code",
      "source": [
        "sc=StandardScaler()\n",
        "x_std=sc.fit_transform(x)"
      ],
      "metadata": {
        "id": "-TLZ-VP4s4Ok"
      },
      "execution_count": 23,
      "outputs": []
    },
    {
      "cell_type": "code",
      "source": [
        "x_train,x_test,y_train,y_test=train_test_split(x_std,breast_cancer.target,random_state=0)"
      ],
      "metadata": {
        "id": "QM-SRjsStGbU"
      },
      "execution_count": 24,
      "outputs": []
    },
    {
      "cell_type": "code",
      "source": [
        "\n",
        "pca=decomposition.PCA(n_components=15)\n",
        "x_train_pca=pca.fit_transform(x_train)\n",
        "x_test_pca=pca.transform(x_test)"
      ],
      "metadata": {
        "id": "t1wg6PyGtN8n"
      },
      "execution_count": 25,
      "outputs": []
    },
    {
      "cell_type": "code",
      "source": [
        "lr=linear_model.LogisticRegression()\n",
        "start=time.time()\n",
        "lr.fit(x_train_pca,y_train)\n",
        "ending=time.time()\n",
        "print(ending-start)\n",
        "print(lr.score(x_test_pca,y_test))"
      ],
      "metadata": {
        "colab": {
          "base_uri": "https://localhost:8080/"
        },
        "id": "GMp_2MjptSbC",
        "outputId": "094118fc-0a33-4e9d-a8e8-1d91670cb50c"
      },
      "execution_count": 27,
      "outputs": [
        {
          "output_type": "stream",
          "name": "stdout",
          "text": [
            "0.01821160316467285\n",
            "0.958041958041958\n"
          ]
        }
      ]
    },
    {
      "cell_type": "code",
      "source": [
        "lr=linear_model.LogisticRegression()\n",
        "start=time.time()\n",
        "lr.fit(x_train_pca,y_train)\n",
        "ending=time.time()\n",
        "print(ending-start)\n",
        "print(lr.score(x_test_pca,y_test))"
      ],
      "metadata": {
        "colab": {
          "base_uri": "https://localhost:8080/"
        },
        "id": "Qy_-L2MqthaB",
        "outputId": "724f4bb3-a548-4324-a22b-51ee32b3e0ee"
      },
      "execution_count": 29,
      "outputs": [
        {
          "output_type": "stream",
          "name": "stdout",
          "text": [
            "0.01008296012878418\n",
            "0.958041958041958\n"
          ]
        }
      ]
    },
    {
      "cell_type": "code",
      "source": [
        "lr=linear_model.LogisticRegression()\n",
        "start=time.time()\n",
        "lr.fit(x_train,y_train)\n",
        "ending=time.time()\n",
        "print(ending-start)\n",
        "print(lr.score(x_test,y_test))"
      ],
      "metadata": {
        "colab": {
          "base_uri": "https://localhost:8080/"
        },
        "id": "95Rzz5Vdtkfd",
        "outputId": "5fd5cdc8-645c-4062-af67-e6c0616b571b"
      },
      "execution_count": 30,
      "outputs": [
        {
          "output_type": "stream",
          "name": "stdout",
          "text": [
            "0.04023885726928711\n",
            "0.965034965034965\n"
          ]
        }
      ]
    },
    {
      "cell_type": "code",
      "source": [],
      "metadata": {
        "id": "SOz6DfWBu-xl"
      },
      "execution_count": null,
      "outputs": []
    }
  ]
}