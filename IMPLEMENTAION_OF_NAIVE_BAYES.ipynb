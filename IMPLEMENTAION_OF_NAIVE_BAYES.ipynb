{
  "nbformat": 4,
  "nbformat_minor": 0,
  "metadata": {
    "colab": {
      "provenance": [],
      "authorship_tag": "ABX9TyP+HKrmYIZkOngKTvbZk8lg",
      "include_colab_link": true
    },
    "kernelspec": {
      "name": "python3",
      "display_name": "Python 3"
    },
    "language_info": {
      "name": "python"
    }
  },
  "cells": [
    {
      "cell_type": "markdown",
      "metadata": {
        "id": "view-in-github",
        "colab_type": "text"
      },
      "source": [
        "<a href=\"https://colab.research.google.com/github/shivamanisuram/IMPLEMENTATION-OF-NAIVE-BAYES-1/blob/main/IMPLEMENTAION_OF_NAIVE_BAYES.ipynb\" target=\"_parent\"><img src=\"https://colab.research.google.com/assets/colab-badge.svg\" alt=\"Open In Colab\"/></a>"
      ]
    },
    {
      "cell_type": "code",
      "execution_count": 1,
      "metadata": {
        "id": "5bpSmEu29-lX"
      },
      "outputs": [],
      "source": [
        "import numpy as np"
      ]
    },
    {
      "source": [
        "def fit(X_train, Y_train):\n",
        "    result = {}\n",
        "    class_values = set(Y_train)\n",
        "    for current_class in class_values:\n",
        "        result[current_class] = {}\n",
        "        result[\"total_data\"] = len(Y_train)\n",
        "        num_features = X_train.shape[1]\n",
        "        result[current_class][\"total_count\"] = sum(Y_train==current_class)\n",
        "        for j in range(1,num_features+1):\n",
        "            result[current_class][j] = {}\n",
        "\n",
        "            all_possible_values = set(X_train[:,j-1])\n",
        "            for current_value in all_possible_values:\n",
        "                result[current_class][j][current_value] = (X_train[current_class==Y_train,j]==current_value).sum()\n",
        "    return result"
      ],
      "cell_type": "code",
      "metadata": {
        "id": "SgiOE7zICD4X"
      },
      "execution_count": 18,
      "outputs": []
    },
    {
      "cell_type": "code",
      "source": [
        "num_features=5\n",
        "for j in range(1,num_features+1):\n",
        "  print(j);"
      ],
      "metadata": {
        "colab": {
          "base_uri": "https://localhost:8080/"
        },
        "id": "-rptLKP2BmQk",
        "outputId": "b1dc4b48-7ec9-4615-c592-ab99901e523d"
      },
      "execution_count": 20,
      "outputs": [
        {
          "output_type": "stream",
          "name": "stdout",
          "text": [
            "1\n",
            "2\n",
            "3\n",
            "4\n",
            "5\n"
          ]
        }
      ]
    }
  ]
}