{
  "nbformat": 4,
  "nbformat_minor": 0,
  "metadata": {
    "colab": {
      "provenance": [],
      "authorship_tag": "ABX9TyONTucP9yTlJlgdjd5tsCod",
      "include_colab_link": true
    },
    "kernelspec": {
      "name": "python3",
      "display_name": "Python 3"
    },
    "language_info": {
      "name": "python"
    }
  },
  "cells": [
    {
      "cell_type": "markdown",
      "metadata": {
        "id": "view-in-github",
        "colab_type": "text"
      },
      "source": [
        "<a href=\"https://colab.research.google.com/github/shivamanisuram/machine-learning-algortithms/blob/main/pca_analysis_of_breast_cancer_dataset.ipynb\" target=\"_parent\"><img src=\"https://colab.research.google.com/assets/colab-badge.svg\" alt=\"Open In Colab\"/></a>"
      ]
    },
    {
      "cell_type": "code",
      "execution_count": null,
      "metadata": {
        "id": "4fy685iCsS_C"
      },
      "outputs": [],
      "source": [
        "from sklearn import decomposition, ensemble, datasets\n",
        "import numpy as np\n",
        "import time\n",
        "from sklearn import linear_model\n",
        "from sklearn.model_selection import train_test_split\n",
        "from sklearn.preprocessing import StandardScaler\n",
        "from sklearn.model_selection import train_test_split\n",
        "from sklearn.preprocessing import StandardScaler"
      ]
    },
    {
      "cell_type": "code",
      "source": [
        "breast_cancer=datasets.load_breast_cancer()"
      ],
      "metadata": {
        "id": "iZV9FA6sstpS"
      },
      "execution_count": null,
      "outputs": []
    },
    {
      "cell_type": "code",
      "source": [
        "x=breast_cancer.data\n",
        "x.shape"
      ],
      "metadata": {
        "colab": {
          "base_uri": "https://localhost:8080/"
        },
        "id": "khqkzdwisw3S",
        "outputId": "a5a7c420-024f-4532-c360-430ba127552a"
      },
      "execution_count": null,
      "outputs": [
        {
          "output_type": "execute_result",
          "data": {
            "text/plain": [
              "(569, 30)"
            ]
          },
          "metadata": {},
          "execution_count": 3
        }
      ]
    },
    {
      "cell_type": "code",
      "source": [
        "sc=StandardScaler()\n",
        "x_std=sc.fit_transform(x)"
      ],
      "metadata": {
        "id": "-TLZ-VP4s4Ok"
      },
      "execution_count": null,
      "outputs": []
    },
    {
      "cell_type": "code",
      "source": [
        "x_train,x_test,y_train,y_test=train_test_split(x_std,breast_cancer.target,random_state=0)"
      ],
      "metadata": {
        "id": "QM-SRjsStGbU"
      },
      "execution_count": null,
      "outputs": []
    },
    {
      "cell_type": "code",
      "source": [
        "\n",
        "pca=decomposition.PCA(n_components=15)\n",
        "x_train_pca=pca.fit_transform(x_train)\n",
        "x_test_pca=pca.transform(x_test)"
      ],
      "metadata": {
        "id": "t1wg6PyGtN8n"
      },
      "execution_count": null,
      "outputs": []
    },
    {
      "cell_type": "code",
      "source": [
        "pca=decomposition.PCA()\n",
        "pca.fit_transform(x_train)"
      ],
      "metadata": {
        "colab": {
          "base_uri": "https://localhost:8080/"
        },
        "id": "8rx-CrtTyc5B",
        "outputId": "e175db7e-8818-419c-ec24-cf5f57f415d1"
      },
      "execution_count": null,
      "outputs": [
        {
          "output_type": "execute_result",
          "data": {
            "text/plain": [
              "array([[-2.83807710e+00, -3.19380204e-01, -5.09786956e-01, ...,\n",
              "         2.21524204e-03, -1.76560105e-02,  2.17290491e-03],\n",
              "       [-3.23881077e+00,  9.46695152e-01,  1.46301470e+00, ...,\n",
              "        -3.50930341e-03, -1.56914143e-02,  1.44518116e-02],\n",
              "       [ 3.92831902e+00, -3.30091570e+00,  1.84183164e+00, ...,\n",
              "         2.00501871e-02,  3.44990391e-02, -1.16657352e-02],\n",
              "       ...,\n",
              "       [-3.17962251e+00,  4.33267733e-01,  5.77005027e-01, ...,\n",
              "         3.85704447e-02,  4.18716728e-02,  1.59435183e-02],\n",
              "       [-5.59141525e+00, -7.52889177e-01,  4.06478207e+00, ...,\n",
              "         1.97618354e-02,  1.70355933e-02,  4.38111630e-03],\n",
              "       [-1.20802261e+00,  1.32965049e+00,  1.26115052e+00, ...,\n",
              "        -1.32544095e-02,  1.58653526e-03, -1.14601436e-02]])"
            ]
          },
          "metadata": {},
          "execution_count": 10
        }
      ]
    },
    {
      "cell_type": "code",
      "source": [
        "pca.explained_variance_"
      ],
      "metadata": {
        "colab": {
          "base_uri": "https://localhost:8080/"
        },
        "id": "gdvRETRoyn_k",
        "outputId": "6b671d41-59bb-4d80-f16e-af28cea571ab"
      },
      "execution_count": null,
      "outputs": [
        {
          "output_type": "execute_result",
          "data": {
            "text/plain": [
              "array([1.30274684e+01, 5.81556555e+00, 2.85848795e+00, 1.91901713e+00,\n",
              "       1.70021491e+00, 1.20663908e+00, 6.53337152e-01, 4.26738474e-01,\n",
              "       4.26450541e-01, 3.45589858e-01, 3.08054910e-01, 2.56054468e-01,\n",
              "       2.28152003e-01, 1.43262745e-01, 9.26283031e-02, 7.80260477e-02,\n",
              "       6.13812037e-02, 5.26182531e-02, 4.50933578e-02, 3.08275366e-02,\n",
              "       3.03277956e-02, 2.51390631e-02, 2.12226717e-02, 1.77427715e-02,\n",
              "       1.63886382e-02, 7.83681541e-03, 6.61084728e-03, 1.45257891e-03,\n",
              "       7.98794510e-04, 1.11908784e-04])"
            ]
          },
          "metadata": {},
          "execution_count": 12
        }
      ]
    },
    {
      "cell_type": "code",
      "source": [
        "total=sum(pca.explained_variance_)\n",
        "k=0\n",
        "current_variance=0\n",
        "while current_variance/total<0.99:\n",
        "    current_variance+=pca.explained_variance_[k]\n",
        "    k=k+1\n",
        "k"
      ],
      "metadata": {
        "colab": {
          "base_uri": "https://localhost:8080/"
        },
        "id": "yiiPUjNyy44J",
        "outputId": "8ec29882-f6c8-46f9-dda0-78e5e6fc0ffd"
      },
      "execution_count": null,
      "outputs": [
        {
          "output_type": "execute_result",
          "data": {
            "text/plain": [
              "17"
            ]
          },
          "metadata": {},
          "execution_count": 13
        }
      ]
    },
    {
      "cell_type": "code",
      "source": [
        "lr=linear_model.LogisticRegression()\n",
        "start=time.time()\n",
        "lr.fit(x_train_pca,y_train)\n",
        "ending=time.time()\n",
        "print(ending-start)\n",
        "print(lr.score(x_test_pca,y_test))"
      ],
      "metadata": {
        "colab": {
          "base_uri": "https://localhost:8080/"
        },
        "id": "GMp_2MjptSbC",
        "outputId": "094118fc-0a33-4e9d-a8e8-1d91670cb50c"
      },
      "execution_count": null,
      "outputs": [
        {
          "output_type": "stream",
          "name": "stdout",
          "text": [
            "0.01821160316467285\n",
            "0.958041958041958\n"
          ]
        }
      ]
    },
    {
      "cell_type": "code",
      "source": [
        "lr=linear_model.LogisticRegression()\n",
        "start=time.time()\n",
        "lr.fit(x_train_pca,y_train)\n",
        "ending=time.time()\n",
        "print(ending-start)\n",
        "print(lr.score(x_test_pca,y_test))"
      ],
      "metadata": {
        "colab": {
          "base_uri": "https://localhost:8080/"
        },
        "id": "Qy_-L2MqthaB",
        "outputId": "724f4bb3-a548-4324-a22b-51ee32b3e0ee"
      },
      "execution_count": null,
      "outputs": [
        {
          "output_type": "stream",
          "name": "stdout",
          "text": [
            "0.01008296012878418\n",
            "0.958041958041958\n"
          ]
        }
      ]
    },
    {
      "cell_type": "code",
      "source": [
        "lr=linear_model.LogisticRegression()\n",
        "start=time.time()\n",
        "lr.fit(x_train,y_train)\n",
        "ending=time.time()\n",
        "print(ending-start)\n",
        "print(lr.score(x_test,y_test))"
      ],
      "metadata": {
        "colab": {
          "base_uri": "https://localhost:8080/"
        },
        "id": "95Rzz5Vdtkfd",
        "outputId": "5fd5cdc8-645c-4062-af67-e6c0616b571b"
      },
      "execution_count": null,
      "outputs": [
        {
          "output_type": "stream",
          "name": "stdout",
          "text": [
            "0.04023885726928711\n",
            "0.965034965034965\n"
          ]
        }
      ]
    },
    {
      "cell_type": "code",
      "source": [],
      "metadata": {
        "id": "SOz6DfWBu-xl"
      },
      "execution_count": null,
      "outputs": []
    }
  ]
}